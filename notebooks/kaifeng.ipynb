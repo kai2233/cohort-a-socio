{
 "cells": [
  {
   "cell_type": "code",
   "execution_count": 1,
   "id": "22e6c1f6",
   "metadata": {},
   "outputs": [],
   "source": [
    "import pandas as pd\n",
    "import seaborn as sns\n",
    "import numpy as np\n",
    "import matplotlib.pyplot as plt"
   ]
  },
  {
   "cell_type": "code",
   "execution_count": 2,
   "id": "96bfbe4d",
   "metadata": {},
   "outputs": [],
   "source": [
    "df = pd.read_csv(\"../data/lovoo_v3_users_api-results.csv\")"
   ]
  },
  {
   "cell_type": "code",
   "execution_count": 3,
   "id": "76783b88",
   "metadata": {},
   "outputs": [
    {
     "data": {
      "text/html": [
       "<div>\n",
       "<style scoped>\n",
       "    .dataframe tbody tr th:only-of-type {\n",
       "        vertical-align: middle;\n",
       "    }\n",
       "\n",
       "    .dataframe tbody tr th {\n",
       "        vertical-align: top;\n",
       "    }\n",
       "\n",
       "    .dataframe thead th {\n",
       "        text-align: right;\n",
       "    }\n",
       "</style>\n",
       "<table border=\"1\" class=\"dataframe\">\n",
       "  <thead>\n",
       "    <tr style=\"text-align: right;\">\n",
       "      <th></th>\n",
       "      <th>gender</th>\n",
       "      <th>genderLooking</th>\n",
       "      <th>age</th>\n",
       "      <th>name</th>\n",
       "      <th>counts_details</th>\n",
       "      <th>counts_pictures</th>\n",
       "      <th>counts_profileVisits</th>\n",
       "      <th>counts_kisses</th>\n",
       "      <th>counts_fans</th>\n",
       "      <th>counts_g</th>\n",
       "      <th>...</th>\n",
       "      <th>shareProfileEnabled</th>\n",
       "      <th>lastOnlineDate</th>\n",
       "      <th>lastOnlineTime</th>\n",
       "      <th>birthd</th>\n",
       "      <th>crypt</th>\n",
       "      <th>freetext</th>\n",
       "      <th>whazzup</th>\n",
       "      <th>userId</th>\n",
       "      <th>pictureId</th>\n",
       "      <th>isSystemProfile</th>\n",
       "    </tr>\n",
       "  </thead>\n",
       "  <tbody>\n",
       "    <tr>\n",
       "      <th>0</th>\n",
       "      <td>F</td>\n",
       "      <td>M</td>\n",
       "      <td>25</td>\n",
       "      <td>daeni</td>\n",
       "      <td>1.00</td>\n",
       "      <td>4</td>\n",
       "      <td>8279</td>\n",
       "      <td>239</td>\n",
       "      <td>0</td>\n",
       "      <td>3</td>\n",
       "      <td>...</td>\n",
       "      <td>1</td>\n",
       "      <td>2015-04-25T20:43:26Z</td>\n",
       "      <td>1.429995e+09</td>\n",
       "      <td>0</td>\n",
       "      <td>NaN</td>\n",
       "      <td>Nur tote Fisch schwimmen mit dem Strom</td>\n",
       "      <td>Nur tote fische schwimmen mit dem strom</td>\n",
       "      <td>4e3842f79b70e7ea57000064</td>\n",
       "      <td>55303fc3160ba0eb728b4575</td>\n",
       "      <td>NaN</td>\n",
       "    </tr>\n",
       "    <tr>\n",
       "      <th>1</th>\n",
       "      <td>F</td>\n",
       "      <td>M</td>\n",
       "      <td>22</td>\n",
       "      <td>italiana 92</td>\n",
       "      <td>0.85</td>\n",
       "      <td>5</td>\n",
       "      <td>663</td>\n",
       "      <td>13</td>\n",
       "      <td>0</td>\n",
       "      <td>0</td>\n",
       "      <td>...</td>\n",
       "      <td>1</td>\n",
       "      <td>2015-04-26T09:19:35Z</td>\n",
       "      <td>1.430040e+09</td>\n",
       "      <td>0</td>\n",
       "      <td>NaN</td>\n",
       "      <td>NaN</td>\n",
       "      <td>Primaveraaa&lt;3</td>\n",
       "      <td>4e3d34bf5d2bce7b160006a3</td>\n",
       "      <td>552e7b61c66da10d1e8b4c82</td>\n",
       "      <td>NaN</td>\n",
       "    </tr>\n",
       "    <tr>\n",
       "      <th>2</th>\n",
       "      <td>F</td>\n",
       "      <td>M</td>\n",
       "      <td>21</td>\n",
       "      <td>Lauraaa</td>\n",
       "      <td>0.00</td>\n",
       "      <td>4</td>\n",
       "      <td>1369</td>\n",
       "      <td>88</td>\n",
       "      <td>0</td>\n",
       "      <td>2</td>\n",
       "      <td>...</td>\n",
       "      <td>1</td>\n",
       "      <td>2015-04-06T14:24:07Z</td>\n",
       "      <td>1.428330e+09</td>\n",
       "      <td>0</td>\n",
       "      <td>NaN</td>\n",
       "      <td>NaN</td>\n",
       "      <td>NaN</td>\n",
       "      <td>4ec96c090dc82cb25d00000a</td>\n",
       "      <td>54a584ecc56da128638b4674</td>\n",
       "      <td>NaN</td>\n",
       "    </tr>\n",
       "    <tr>\n",
       "      <th>3</th>\n",
       "      <td>F</td>\n",
       "      <td>none</td>\n",
       "      <td>20</td>\n",
       "      <td>Qqkwmdowlo</td>\n",
       "      <td>0.12</td>\n",
       "      <td>3</td>\n",
       "      <td>22187</td>\n",
       "      <td>1015</td>\n",
       "      <td>2</td>\n",
       "      <td>3</td>\n",
       "      <td>...</td>\n",
       "      <td>1</td>\n",
       "      <td>2015-04-07T11:21:01Z</td>\n",
       "      <td>1.428406e+09</td>\n",
       "      <td>0</td>\n",
       "      <td>NaN</td>\n",
       "      <td>NaN</td>\n",
       "      <td>Je pense donc je suis.  Instagram quedev</td>\n",
       "      <td>4eef8b81ebf2c8f64000000c</td>\n",
       "      <td>54c92738076ea1b5338b4735</td>\n",
       "      <td>NaN</td>\n",
       "    </tr>\n",
       "    <tr>\n",
       "      <th>4</th>\n",
       "      <td>F</td>\n",
       "      <td>M</td>\n",
       "      <td>21</td>\n",
       "      <td>schaessie {3</td>\n",
       "      <td>0.15</td>\n",
       "      <td>12</td>\n",
       "      <td>35262</td>\n",
       "      <td>1413</td>\n",
       "      <td>9</td>\n",
       "      <td>12</td>\n",
       "      <td>...</td>\n",
       "      <td>1</td>\n",
       "      <td>2015-04-06T14:25:20Z</td>\n",
       "      <td>1.428330e+09</td>\n",
       "      <td>0</td>\n",
       "      <td>NaN</td>\n",
       "      <td>NaN</td>\n",
       "      <td>Instagram: JESSSIESCH</td>\n",
       "      <td>4ef3cc5aa9d0b3d07d000017</td>\n",
       "      <td>54e1a6f6c76da135748b4a3a</td>\n",
       "      <td>NaN</td>\n",
       "    </tr>\n",
       "  </tbody>\n",
       "</table>\n",
       "<p>5 rows × 42 columns</p>\n",
       "</div>"
      ],
      "text/plain": [
       "  gender genderLooking  age          name  counts_details  counts_pictures  \\\n",
       "0      F             M   25         daeni            1.00                4   \n",
       "1      F             M   22   italiana 92            0.85                5   \n",
       "2      F             M   21       Lauraaa            0.00                4   \n",
       "3      F          none   20    Qqkwmdowlo            0.12                3   \n",
       "4      F             M   21  schaessie {3            0.15               12   \n",
       "\n",
       "   counts_profileVisits  counts_kisses  counts_fans  counts_g  ...  \\\n",
       "0                  8279            239            0         3  ...   \n",
       "1                   663             13            0         0  ...   \n",
       "2                  1369             88            0         2  ...   \n",
       "3                 22187           1015            2         3  ...   \n",
       "4                 35262           1413            9        12  ...   \n",
       "\n",
       "   shareProfileEnabled        lastOnlineDate  lastOnlineTime birthd crypt  \\\n",
       "0                    1  2015-04-25T20:43:26Z    1.429995e+09      0   NaN   \n",
       "1                    1  2015-04-26T09:19:35Z    1.430040e+09      0   NaN   \n",
       "2                    1  2015-04-06T14:24:07Z    1.428330e+09      0   NaN   \n",
       "3                    1  2015-04-07T11:21:01Z    1.428406e+09      0   NaN   \n",
       "4                    1  2015-04-06T14:25:20Z    1.428330e+09      0   NaN   \n",
       "\n",
       "                                 freetext  \\\n",
       "0  Nur tote Fisch schwimmen mit dem Strom   \n",
       "1                                     NaN   \n",
       "2                                     NaN   \n",
       "3                                     NaN   \n",
       "4                                     NaN   \n",
       "\n",
       "                                    whazzup                    userId  \\\n",
       "0   Nur tote fische schwimmen mit dem strom  4e3842f79b70e7ea57000064   \n",
       "1                             Primaveraaa<3  4e3d34bf5d2bce7b160006a3   \n",
       "2                                       NaN  4ec96c090dc82cb25d00000a   \n",
       "3  Je pense donc je suis.  Instagram quedev  4eef8b81ebf2c8f64000000c   \n",
       "4                     Instagram: JESSSIESCH  4ef3cc5aa9d0b3d07d000017   \n",
       "\n",
       "                  pictureId  isSystemProfile  \n",
       "0  55303fc3160ba0eb728b4575              NaN  \n",
       "1  552e7b61c66da10d1e8b4c82              NaN  \n",
       "2  54a584ecc56da128638b4674              NaN  \n",
       "3  54c92738076ea1b5338b4735              NaN  \n",
       "4  54e1a6f6c76da135748b4a3a              NaN  \n",
       "\n",
       "[5 rows x 42 columns]"
      ]
     },
     "execution_count": 3,
     "metadata": {},
     "output_type": "execute_result"
    }
   ],
   "source": [
    "df.head()"
   ]
  },
  {
   "cell_type": "code",
   "execution_count": 4,
   "id": "fcf0ff64",
   "metadata": {},
   "outputs": [
    {
     "data": {
      "text/html": [
       "<div>\n",
       "<style scoped>\n",
       "    .dataframe tbody tr th:only-of-type {\n",
       "        vertical-align: middle;\n",
       "    }\n",
       "\n",
       "    .dataframe tbody tr th {\n",
       "        vertical-align: top;\n",
       "    }\n",
       "\n",
       "    .dataframe thead th {\n",
       "        text-align: right;\n",
       "    }\n",
       "</style>\n",
       "<table border=\"1\" class=\"dataframe\">\n",
       "  <thead>\n",
       "    <tr style=\"text-align: right;\">\n",
       "      <th></th>\n",
       "      <th>age</th>\n",
       "      <th>counts_details</th>\n",
       "      <th>counts_pictures</th>\n",
       "      <th>counts_profileVisits</th>\n",
       "      <th>counts_kisses</th>\n",
       "      <th>counts_fans</th>\n",
       "      <th>counts_g</th>\n",
       "      <th>distance</th>\n",
       "      <th>isFlirtstar</th>\n",
       "      <th>isHighlighted</th>\n",
       "      <th>...</th>\n",
       "      <th>isNew</th>\n",
       "      <th>isOnline</th>\n",
       "      <th>isVip</th>\n",
       "      <th>lang_count</th>\n",
       "      <th>verified</th>\n",
       "      <th>shareProfileEnabled</th>\n",
       "      <th>lastOnlineTime</th>\n",
       "      <th>birthd</th>\n",
       "      <th>crypt</th>\n",
       "      <th>isSystemProfile</th>\n",
       "    </tr>\n",
       "  </thead>\n",
       "  <tbody>\n",
       "    <tr>\n",
       "      <th>count</th>\n",
       "      <td>3992.000000</td>\n",
       "      <td>3992.000000</td>\n",
       "      <td>3992.000000</td>\n",
       "      <td>3992.000000</td>\n",
       "      <td>3992.000000</td>\n",
       "      <td>3992.000000</td>\n",
       "      <td>3992.000000</td>\n",
       "      <td>3946.000000</td>\n",
       "      <td>3992.000000</td>\n",
       "      <td>3992.000000</td>\n",
       "      <td>...</td>\n",
       "      <td>3992.000000</td>\n",
       "      <td>3992.000000</td>\n",
       "      <td>3992.000000</td>\n",
       "      <td>3992.000000</td>\n",
       "      <td>3992.000000</td>\n",
       "      <td>3992.000000</td>\n",
       "      <td>3.991000e+03</td>\n",
       "      <td>3992.000000</td>\n",
       "      <td>46.0</td>\n",
       "      <td>2.0</td>\n",
       "    </tr>\n",
       "    <tr>\n",
       "      <th>mean</th>\n",
       "      <td>21.991483</td>\n",
       "      <td>0.569409</td>\n",
       "      <td>4.786573</td>\n",
       "      <td>3705.467184</td>\n",
       "      <td>156.599699</td>\n",
       "      <td>2.335421</td>\n",
       "      <td>0.125501</td>\n",
       "      <td>207.230005</td>\n",
       "      <td>0.011774</td>\n",
       "      <td>0.011774</td>\n",
       "      <td>...</td>\n",
       "      <td>0.238727</td>\n",
       "      <td>0.585421</td>\n",
       "      <td>0.022796</td>\n",
       "      <td>1.109719</td>\n",
       "      <td>0.219940</td>\n",
       "      <td>0.960671</td>\n",
       "      <td>1.428921e+09</td>\n",
       "      <td>0.003758</td>\n",
       "      <td>1.0</td>\n",
       "      <td>1.0</td>\n",
       "    </tr>\n",
       "    <tr>\n",
       "      <th>std</th>\n",
       "      <td>1.959481</td>\n",
       "      <td>0.326066</td>\n",
       "      <td>4.420238</td>\n",
       "      <td>6845.038330</td>\n",
       "      <td>377.650691</td>\n",
       "      <td>12.235699</td>\n",
       "      <td>1.238945</td>\n",
       "      <td>196.594017</td>\n",
       "      <td>0.107879</td>\n",
       "      <td>0.107879</td>\n",
       "      <td>...</td>\n",
       "      <td>0.426359</td>\n",
       "      <td>0.492711</td>\n",
       "      <td>0.149270</td>\n",
       "      <td>0.582451</td>\n",
       "      <td>0.414258</td>\n",
       "      <td>0.194400</td>\n",
       "      <td>8.227151e+05</td>\n",
       "      <td>0.061191</td>\n",
       "      <td>0.0</td>\n",
       "      <td>0.0</td>\n",
       "    </tr>\n",
       "    <tr>\n",
       "      <th>min</th>\n",
       "      <td>18.000000</td>\n",
       "      <td>0.000000</td>\n",
       "      <td>0.000000</td>\n",
       "      <td>0.000000</td>\n",
       "      <td>0.000000</td>\n",
       "      <td>0.000000</td>\n",
       "      <td>0.000000</td>\n",
       "      <td>0.000000</td>\n",
       "      <td>0.000000</td>\n",
       "      <td>0.000000</td>\n",
       "      <td>...</td>\n",
       "      <td>0.000000</td>\n",
       "      <td>0.000000</td>\n",
       "      <td>0.000000</td>\n",
       "      <td>0.000000</td>\n",
       "      <td>0.000000</td>\n",
       "      <td>0.000000</td>\n",
       "      <td>1.426592e+09</td>\n",
       "      <td>0.000000</td>\n",
       "      <td>1.0</td>\n",
       "      <td>1.0</td>\n",
       "    </tr>\n",
       "    <tr>\n",
       "      <th>25%</th>\n",
       "      <td>20.000000</td>\n",
       "      <td>0.310000</td>\n",
       "      <td>2.000000</td>\n",
       "      <td>383.000000</td>\n",
       "      <td>11.000000</td>\n",
       "      <td>0.000000</td>\n",
       "      <td>0.000000</td>\n",
       "      <td>83.875000</td>\n",
       "      <td>0.000000</td>\n",
       "      <td>0.000000</td>\n",
       "      <td>...</td>\n",
       "      <td>0.000000</td>\n",
       "      <td>0.000000</td>\n",
       "      <td>0.000000</td>\n",
       "      <td>1.000000</td>\n",
       "      <td>0.000000</td>\n",
       "      <td>1.000000</td>\n",
       "      <td>1.428332e+09</td>\n",
       "      <td>0.000000</td>\n",
       "      <td>1.0</td>\n",
       "      <td>1.0</td>\n",
       "    </tr>\n",
       "    <tr>\n",
       "      <th>50%</th>\n",
       "      <td>22.000000</td>\n",
       "      <td>0.620000</td>\n",
       "      <td>4.000000</td>\n",
       "      <td>1222.000000</td>\n",
       "      <td>44.000000</td>\n",
       "      <td>0.000000</td>\n",
       "      <td>0.000000</td>\n",
       "      <td>172.000000</td>\n",
       "      <td>0.000000</td>\n",
       "      <td>0.000000</td>\n",
       "      <td>...</td>\n",
       "      <td>0.000000</td>\n",
       "      <td>1.000000</td>\n",
       "      <td>0.000000</td>\n",
       "      <td>1.000000</td>\n",
       "      <td>0.000000</td>\n",
       "      <td>1.000000</td>\n",
       "      <td>1.428400e+09</td>\n",
       "      <td>0.000000</td>\n",
       "      <td>1.0</td>\n",
       "      <td>1.0</td>\n",
       "    </tr>\n",
       "    <tr>\n",
       "      <th>75%</th>\n",
       "      <td>24.000000</td>\n",
       "      <td>0.850000</td>\n",
       "      <td>6.000000</td>\n",
       "      <td>4063.250000</td>\n",
       "      <td>141.000000</td>\n",
       "      <td>0.000000</td>\n",
       "      <td>0.000000</td>\n",
       "      <td>317.000000</td>\n",
       "      <td>0.000000</td>\n",
       "      <td>0.000000</td>\n",
       "      <td>...</td>\n",
       "      <td>0.000000</td>\n",
       "      <td>1.000000</td>\n",
       "      <td>0.000000</td>\n",
       "      <td>1.000000</td>\n",
       "      <td>0.000000</td>\n",
       "      <td>1.000000</td>\n",
       "      <td>1.429992e+09</td>\n",
       "      <td>0.000000</td>\n",
       "      <td>1.0</td>\n",
       "      <td>1.0</td>\n",
       "    </tr>\n",
       "    <tr>\n",
       "      <th>max</th>\n",
       "      <td>28.000000</td>\n",
       "      <td>1.000000</td>\n",
       "      <td>30.000000</td>\n",
       "      <td>164425.000000</td>\n",
       "      <td>9288.000000</td>\n",
       "      <td>241.000000</td>\n",
       "      <td>43.000000</td>\n",
       "      <td>6918.000000</td>\n",
       "      <td>1.000000</td>\n",
       "      <td>1.000000</td>\n",
       "      <td>...</td>\n",
       "      <td>1.000000</td>\n",
       "      <td>1.000000</td>\n",
       "      <td>1.000000</td>\n",
       "      <td>9.000000</td>\n",
       "      <td>1.000000</td>\n",
       "      <td>1.000000</td>\n",
       "      <td>1.430647e+09</td>\n",
       "      <td>1.000000</td>\n",
       "      <td>1.0</td>\n",
       "      <td>1.0</td>\n",
       "    </tr>\n",
       "  </tbody>\n",
       "</table>\n",
       "<p>8 rows × 22 columns</p>\n",
       "</div>"
      ],
      "text/plain": [
       "               age  counts_details  counts_pictures  counts_profileVisits  \\\n",
       "count  3992.000000     3992.000000      3992.000000           3992.000000   \n",
       "mean     21.991483        0.569409         4.786573           3705.467184   \n",
       "std       1.959481        0.326066         4.420238           6845.038330   \n",
       "min      18.000000        0.000000         0.000000              0.000000   \n",
       "25%      20.000000        0.310000         2.000000            383.000000   \n",
       "50%      22.000000        0.620000         4.000000           1222.000000   \n",
       "75%      24.000000        0.850000         6.000000           4063.250000   \n",
       "max      28.000000        1.000000        30.000000         164425.000000   \n",
       "\n",
       "       counts_kisses  counts_fans     counts_g     distance  isFlirtstar  \\\n",
       "count    3992.000000  3992.000000  3992.000000  3946.000000  3992.000000   \n",
       "mean      156.599699     2.335421     0.125501   207.230005     0.011774   \n",
       "std       377.650691    12.235699     1.238945   196.594017     0.107879   \n",
       "min         0.000000     0.000000     0.000000     0.000000     0.000000   \n",
       "25%        11.000000     0.000000     0.000000    83.875000     0.000000   \n",
       "50%        44.000000     0.000000     0.000000   172.000000     0.000000   \n",
       "75%       141.000000     0.000000     0.000000   317.000000     0.000000   \n",
       "max      9288.000000   241.000000    43.000000  6918.000000     1.000000   \n",
       "\n",
       "       isHighlighted  ...        isNew     isOnline        isVip   lang_count  \\\n",
       "count    3992.000000  ...  3992.000000  3992.000000  3992.000000  3992.000000   \n",
       "mean        0.011774  ...     0.238727     0.585421     0.022796     1.109719   \n",
       "std         0.107879  ...     0.426359     0.492711     0.149270     0.582451   \n",
       "min         0.000000  ...     0.000000     0.000000     0.000000     0.000000   \n",
       "25%         0.000000  ...     0.000000     0.000000     0.000000     1.000000   \n",
       "50%         0.000000  ...     0.000000     1.000000     0.000000     1.000000   \n",
       "75%         0.000000  ...     0.000000     1.000000     0.000000     1.000000   \n",
       "max         1.000000  ...     1.000000     1.000000     1.000000     9.000000   \n",
       "\n",
       "          verified  shareProfileEnabled  lastOnlineTime       birthd  crypt  \\\n",
       "count  3992.000000          3992.000000    3.991000e+03  3992.000000   46.0   \n",
       "mean      0.219940             0.960671    1.428921e+09     0.003758    1.0   \n",
       "std       0.414258             0.194400    8.227151e+05     0.061191    0.0   \n",
       "min       0.000000             0.000000    1.426592e+09     0.000000    1.0   \n",
       "25%       0.000000             1.000000    1.428332e+09     0.000000    1.0   \n",
       "50%       0.000000             1.000000    1.428400e+09     0.000000    1.0   \n",
       "75%       0.000000             1.000000    1.429992e+09     0.000000    1.0   \n",
       "max       1.000000             1.000000    1.430647e+09     1.000000    1.0   \n",
       "\n",
       "       isSystemProfile  \n",
       "count              2.0  \n",
       "mean               1.0  \n",
       "std                0.0  \n",
       "min                1.0  \n",
       "25%                1.0  \n",
       "50%                1.0  \n",
       "75%                1.0  \n",
       "max                1.0  \n",
       "\n",
       "[8 rows x 22 columns]"
      ]
     },
     "execution_count": 4,
     "metadata": {},
     "output_type": "execute_result"
    }
   ],
   "source": [
    "df.describe()"
   ]
  },
  {
   "cell_type": "code",
   "execution_count": 5,
   "id": "4bd1326a",
   "metadata": {},
   "outputs": [
    {
     "data": {
      "text/plain": [
       "gender                      0\n",
       "genderLooking               0\n",
       "age                         0\n",
       "name                        0\n",
       "counts_details              0\n",
       "counts_pictures             0\n",
       "counts_profileVisits        0\n",
       "counts_kisses               0\n",
       "counts_fans                 0\n",
       "counts_g                    0\n",
       "flirtInterests_chat         0\n",
       "flirtInterests_friends      0\n",
       "flirtInterests_date         0\n",
       "country                     0\n",
       "city                       22\n",
       "location                    5\n",
       "distance                    5\n",
       "isFlirtstar                 0\n",
       "isHighlighted               0\n",
       "isInfluencer                0\n",
       "isMobile                    0\n",
       "isNew                       0\n",
       "isOnline                    0\n",
       "isVip                       0\n",
       "lang_count                  0\n",
       "lang_fr                     0\n",
       "lang_en                     0\n",
       "lang_de                     0\n",
       "lang_it                     0\n",
       "lang_es                     0\n",
       "lang_pt                     0\n",
       "verified                    0\n",
       "shareProfileEnabled         0\n",
       "lastOnlineDate              0\n",
       "lastOnlineTime              0\n",
       "birthd                      0\n",
       "crypt                     873\n",
       "freetext                  826\n",
       "whazzup                   149\n",
       "userId                      0\n",
       "pictureId                   0\n",
       "isSystemProfile           877\n",
       "dtype: int64"
      ]
     },
     "execution_count": 5,
     "metadata": {},
     "output_type": "execute_result"
    }
   ],
   "source": [
    "verified_users = df[df[\"verified\"] == 1]\n",
    "verified_users.isna().sum()"
   ]
  },
  {
   "cell_type": "code",
   "execution_count": null,
   "id": "b4a96cef",
   "metadata": {},
   "outputs": [
    {
     "data": {
      "text/plain": [
       "<Axes: ylabel='Frequency'>"
      ]
     },
     "execution_count": 6,
     "metadata": {},
     "output_type": "execute_result"
    },
    {
     "data": {
      "image/png": "[encoded data removed]",
      "text/plain": [
       "<Figure size 640x480 with 1 Axes>"
      ]
     },
     "metadata": {},
     "output_type": "display_data"
    }
   ],
   "source": [
    "verified_users[\"lang_count\"].plot.hist()"
   ]
  },
  {
   "cell_type": "code",
   "execution_count": 19,
   "id": "e44f6fc5",
   "metadata": {},
   "outputs": [
    {
     "name": "stdout",
     "output_type": "stream",
     "text": [
      "(878, 42)\n",
      "(86, 42)\n"
     ]
    },
    {
     "data": {
      "text/plain": [
       "<Axes: ylabel='Frequency'>"
      ]
     },
     "execution_count": 19,
     "metadata": {},
     "output_type": "execute_result"
    },
    {
     "data": {
      "image/png": "[encoded data removed]",
      "text/plain": [
       "<Figure size 640x480 with 1 Axes>"
      ]
     },
     "metadata": {},
     "output_type": "display_data"
    }
   ],
   "source": [
    "multi_langs_users = verified_users[verified_users[\"lang_count\"] > 1]\n",
    "print(verified_users.shape)\n",
    "print(multi_langs_users.shape)\n",
    "multi_langs_users[\"lang_count\"].plot.hist()"
   ]
  },
  {
   "cell_type": "code",
   "execution_count": null,
   "id": "a66504b4",
   "metadata": {},
   "outputs": [
    {
     "name": "stdout",
     "output_type": "stream",
     "text": [
      "         lang_fr  lang_en  lang_de  lang_it  lang_es  lang_pt\n",
      "country                                                      \n",
      "BR             1        0        0        0        0        1\n",
      "CH            20       39       47       17       10        4\n",
      "DE             5       13       22        3        0        1\n",
      "FR             1        1        0        0        1        0\n",
      "GB             1        1        1        0        1        1\n",
      "IN             1        1        1        1        1        0\n",
      "IT             2        2        0        2        2        0\n",
      "JM             0        1        1        0        0        0\n",
      "US             1        1        1        1        0        0\n"
     ]
    },
    {
     "data": {
      "text/plain": [
       "<Axes: ylabel='country'>"
      ]
     },
     "execution_count": 20,
     "metadata": {},
     "output_type": "execute_result"
    },
    {
     "data": {
      "image/png": "[encoded data removed]",
      "text/plain": [
       "<Figure size 640x480 with 1 Axes>"
      ]
     },
     "metadata": {},
     "output_type": "display_data"
    }
   ],
   "source": [
    "country_langs = multi_langs_users.groupby(\"country\").agg({\n",
    "                    'lang_fr': 'sum',\n",
    "                    'lang_en': 'sum',\n",
    "                    'lang_de': 'sum',\n",
    "                    'lang_it': 'sum',\n",
    "                    'lang_es': 'sum',\n",
    "                    'lang_pt': 'sum'\n",
    "                })\n",
    "print(country_langs)\n",
    "# fr_lang = verified_users.groupby(\"country\")[\"lang_fr\"].sum()\n",
    "# en_lang = verified_users.groupby(\"country\")[\"lang_en\"].sum()\n",
    "# de_lang = verified_users.groupby(\"country\")[\"lang_de\"].sum()\n",
    "# it_lang = verified_users.groupby(\"country\")[\"lang_it\"].sum()\n",
    "# es_lang = verified_users.groupby(\"country\")[\"lang_es\"].sum()\n",
    "# pt_lang = verified_users.groupby(\"country\")[\"lang_pt\"].sum()\n",
    "# en_lang.plot.barh()\n",
    "# fr_lang.plot.barh()\n",
    "country_langs.plot.barh()"
   ]
  },
  {
   "cell_type": "code",
   "execution_count": 12,
   "id": "d8c41a37",
   "metadata": {},
   "outputs": [
    {
     "name": "stdout",
     "output_type": "stream",
     "text": [
      "               lang_count  counts_kisses\n",
      "lang_count       1.000000       0.113287\n",
      "counts_kisses    0.113287       1.000000\n"
     ]
    },
    {
     "data": {
      "text/plain": [
       "<Axes: xlabel='lang_count', ylabel='counts_kisses'>"
      ]
     },
     "execution_count": 12,
     "metadata": {},
     "output_type": "execute_result"
    },
    {
     "data": {
      "image/png": "[encoded data removed]",
      "text/plain": [
       "<Figure size 640x480 with 1 Axes>"
      ]
     },
     "metadata": {},
     "output_type": "display_data"
    }
   ],
   "source": [
    "print(verified_users[[\"lang_count\",\"counts_kisses\"]].corr())\n",
    "sns.scatterplot(verified_users,x=\"lang_count\",y=\"counts_kisses\")"
   ]
  },
  {
   "cell_type": "code",
   "execution_count": 13,
   "id": "ba285211",
   "metadata": {},
   "outputs": [
    {
     "name": "stdout",
     "output_type": "stream",
     "text": [
      "                      lang_count  counts_profileVisits\n",
      "lang_count              1.000000              0.101532\n",
      "counts_profileVisits    0.101532              1.000000\n"
     ]
    },
    {
     "data": {
      "text/plain": [
       "<Axes: xlabel='lang_count', ylabel='counts_profileVisits'>"
      ]
     },
     "execution_count": 13,
     "metadata": {},
     "output_type": "execute_result"
    },
    {
     "data": {
      "image/png": "[encoded data removed]",
      "text/plain": [
       "<Figure size 640x480 with 1 Axes>"
      ]
     },
     "metadata": {},
     "output_type": "display_data"
    }
   ],
   "source": [
    "print(verified_users[[\"lang_count\",\"counts_profileVisits\"]].corr())\n",
    "sns.scatterplot(verified_users,x=\"lang_count\",y=\"counts_profileVisits\")"
   ]
  },
  {
   "cell_type": "code",
   "execution_count": 15,
   "id": "7e49e24c",
   "metadata": {},
   "outputs": [
    {
     "name": "stdout",
     "output_type": "stream",
     "text": [
      "             lang_count  counts_fans\n",
      "lang_count      1.00000      0.07526\n",
      "counts_fans     0.07526      1.00000\n"
     ]
    },
    {
     "data": {
      "text/plain": [
       "<Axes: xlabel='lang_count', ylabel='counts_fans'>"
      ]
     },
     "execution_count": 15,
     "metadata": {},
     "output_type": "execute_result"
    },
    {
     "data": {
      "image/png": "[encoded data removed]",
      "text/plain": [
       "<Figure size 640x480 with 1 Axes>"
      ]
     },
     "metadata": {},
     "output_type": "display_data"
    }
   ],
   "source": [
    "print(verified_users[[\"lang_count\",\"counts_fans\"]].corr())\n",
    "sns.scatterplot(verified_users,x=\"lang_count\",y=\"counts_fans\")"
   ]
  },
  {
   "cell_type": "code",
   "execution_count": 32,
   "id": "39a923fd",
   "metadata": {},
   "outputs": [
    {
     "name": "stdout",
     "output_type": "stream",
     "text": [
      "flirtInterests_date\n",
      "False    49\n",
      "True     37\n",
      "Name: count, dtype: int64\n"
     ]
    },
    {
     "data": {
      "text/plain": [
       "<Axes: ylabel='flirtInterests_date'>"
      ]
     },
     "execution_count": 32,
     "metadata": {},
     "output_type": "execute_result"
    },
    {
     "data": {
      "image/png": "[encoded data removed]",
      "text/plain": [
       "<Figure size 640x480 with 1 Axes>"
      ]
     },
     "metadata": {},
     "output_type": "display_data"
    }
   ],
   "source": [
    "print(multi_langs_users[\"flirtInterests_date\"].value_counts())\n",
    "multi_langs_users[\"flirtInterests_date\"].value_counts().plot.barh()"
   ]
  },
  {
   "cell_type": "code",
   "execution_count": 31,
   "id": "10bd7e3c",
   "metadata": {},
   "outputs": [
    {
     "name": "stdout",
     "output_type": "stream",
     "text": [
      "flirtInterests_friends\n",
      "True     61\n",
      "False    25\n",
      "Name: count, dtype: int64\n"
     ]
    },
    {
     "data": {
      "text/plain": [
       "<Axes: ylabel='flirtInterests_friends'>"
      ]
     },
     "execution_count": 31,
     "metadata": {},
     "output_type": "execute_result"
    },
    {
     "data": {
      "image/png": "[encoded data removed]",
      "text/plain": [
       "<Figure size 640x480 with 1 Axes>"
      ]
     },
     "metadata": {},
     "output_type": "display_data"
    }
   ],
   "source": [
    "print(multi_langs_users[\"flirtInterests_friends\"].value_counts())\n",
    "multi_langs_users[\"flirtInterests_friends\"].value_counts().plot.barh()"
   ]
  }
 ],
 "metadata": {
  "kernelspec": {
   "display_name": "ds",
   "language": "python",
   "name": "python3"
  },
  "language_info": {
   "codemirror_mode": {
    "name": "ipython",
    "version": 3
   },
   "file_extension": ".py",
   "mimetype": "text/x-python",
   "name": "python",
   "nbconvert_exporter": "python",
   "pygments_lexer": "ipython3",
   "version": "3.12.9"
  }
 },
 "nbformat": 4,
 "nbformat_minor": 5
}
